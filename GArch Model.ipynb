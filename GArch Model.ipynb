{
 "cells": [
  {
   "cell_type": "code",
   "execution_count": null,
   "metadata": {},
   "outputs": [],
   "source": [
    "# Import necessary libraries\n",
    "from random import gauss\n",
    "import matplotlib.pyplot as plt\n",
    "import numpy as np\n",
    "from arch import arch_model\n",
    "from statsmodels.graphics.tsaplots import plot_acf, plot_pacf"
   ]
  },
  {
   "cell_type": "markdown",
   "metadata": {},
   "source": [
    "# GARCH(2,2) Model Simulation\n",
    "This notebook simulates data for a GARCH(2,2) model, visualizes it, and fits the model.\n",
    "\n",
    "### Mathematical Representation:\n",
    "$$\n",
    "a_t = \\varepsilon_t \\sqrt{\\omega + \\alpha_1 a_{t-1}^2 + \\alpha_2 a_{t-2}^2 + \\beta_1 \\sigma_{t-1}^2 + \\beta_2 \\sigma_{t-2}^2}\n",
    "$$\n",
    "\n",
    "where:\n",
    "- $a_0, a_1 \\sim \\mathcal{N}(0,1)$\n",
    "- $\\sigma_0 =1$, $\\sigma_1 = 1$\n",
    "- $\\varepsilon_t \\sim \\mathcal{N}(0,1)$"
   ]
  },
  {
   "cell_type": "code",
   "execution_count": null,
   "metadata": {},
   "outputs": [],
   "source": [
    "# Parameters for the GARCH(2,2) process\n",
    "n = 1000  # number of data points\n",
    "omega = 0.5\n",
    "alpha_1, alpha_2 = 0.1, 0.2\n",
    "beta_1, beta_2 = 0.3, 0.4\n",
    "test_size = int(n * 0.1)  # test set size (10%)\n",
    "\n",
    "# Generate time series data using GARCH(2,2) model\n",
    "series = [gauss(0, 1), gauss(0, 1)]  # initial values\n",
    "vols = [1, 1]  # initial volatilities\n",
    "\n",
    "for _ in range(n):\n",
    "    new_vol = np.sqrt(omega + alpha_1 * series[-1]**2 + alpha_2 * series[-2]**2 + beta_1 * vols[-1]**2 + beta_2 * vols[-2]**2)\n",
    "    new_val = gauss(0, 1) * new_vol\n",
    "    vols.append(new_vol)\n",
    "    series.append(new_val)"
   ]
  },
  {
   "cell_type": "code",
   "execution_count": null,
   "metadata": {},
   "outputs": [],
   "source": [
    "# Plotting the generated GARCH(2,2) data and volatility\n",
    "plt.figure(figsize=(10, 4))\n",
    "plt.plot(series, label='Simulated Data')\n",
    "plt.title('Simulated GARCH(2,2) Data', fontsize=20)\n",
    "plt.xlabel('Time')\n",
    "plt.ylabel('Values')\n",
    "plt.legend()\n",
    "plt.show()\n",
    "\n",
    "plt.figure(figsize=(10, 4))\n",
    "plt.plot(vols, color='orange', label='Volatility')\n",
    "plt.title('Data Volatility', fontsize=20)\n",
    "plt.xlabel('Time')\n",
    "plt.ylabel('Volatility')\n",
    "plt.legend()\n",
    "plt.show()\n",
    "\n",
    "plt.figure(figsize=(10, 4))\n",
    "plt.plot(series, label='Data')\n",
    "plt.plot(vols, color='red', label='Volatility')\n",
    "plt.title('Data and Volatility', fontsize=20)\n",
    "plt.xlabel('Time')\n",
    "plt.ylabel('Values/Volatility')\n",
    "plt.legend()\n",
    "plt.show()"
   ]
  },
  {
   "cell_type": "markdown",
   "metadata": {},
   "source": [
    "## PACF plot for squared series values"
   ]
  },
  {
   "cell_type": "code",
   "execution_count": null,
   "metadata": {},
   "outputs": [],
   "source": [
    "plot_pacf(np.array(series)**2)\n",
    "plt.title('PACF Plot of Squared Series')\n",
    "plt.show()"
   ]
  },
  {
   "cell_type": "markdown",
   "metadata": {},
   "source": [
    "## Fit the GARCH Model"
   ]
  },
  {
   "cell_type": "code",
   "execution_count": null,
   "metadata": {},
   "outputs": [],
   "source": [
    "# Split the data into training and test sets\n",
    "train, test = series[:-test_size], series[-test_size:]\n",
    "\n",
    "# Fit the GARCH(2,2) model on the training set\n",
    "model = arch_model(train, p=2, q=2)\n",
    "model_fit = model.fit()\n",
    "model_fit.summary()"
   ]
  },
  {
   "cell_type": "markdown",
   "metadata": {},
   "source": [
    "## Prediction on test data"
   ]
  },
  {
   "cell_type": "code",
   "execution_count": null,
   "metadata": {},
   "outputs": [],
   "source": [
    "predictions = model_fit.forecast(horizon=test_size)\n",
    "\n",
    "# Plot true vs predicted volatility\n",
    "plt.figure(figsize=(10, 4))\n",
    "plt.plot(vols[-test_size:], label='True Volatility')\n",
    "plt.plot(np.sqrt(predictions.variance.values[-1, :]), label='Predicted Volatility', color='green')\n",
    "plt.title('Volatility Prediction', fontsize=20)\n",
    "plt.xlabel('Time')\n",
    "plt.ylabel('Volatility')\n",
    "plt.legend()\n",
    "plt.show()"
   ]
  },
  {
   "cell_type": "markdown",
   "metadata": {},
   "source": [
    "## Long-term forecast for volatility"
   ]
  },
  {
   "cell_type": "code",
   "execution_count": null,
   "metadata": {},
   "outputs": [],
   "source": [
    "predictions_long_term = model_fit.forecast(horizon=1000)\n",
    "plt.figure(figsize=(10, 4))\n",
    "plt.plot(vols[-test_size:], label='True Volatility')\n",
    "plt.plot(np.sqrt(predictions_long_term.variance.values[-1, :]), label='Predicted Long-Term Volatility', color='purple')\n",
    "plt.title('Long-Term Volatility Prediction', fontsize=20)\n",
    "plt.xlabel('Time')\n",
    "plt.ylabel('Volatility')\n",
    "plt.legend()\n",
    "plt.show()"
   ]
  },
  {
   "cell_type": "markdown",
   "metadata": {},
   "source": [
    "## Rolling forecast to continuously update model on new data"
   ]
  },
  {
   "cell_type": "code",
   "execution_count": null,
   "metadata": {},
   "outputs": [],
   "source": [
    "rolling_predictions = []\n",
    "for i in range(test_size):\n",
    "    train_set = series[:-(test_size - i)]\n",
    "    rolling_model = arch_model(train_set, p=2, q=2)\n",
    "    rolling_model_fit = rolling_model.fit(disp='off')\n",
    "    pred = rolling_model_fit.forecast(horizon=1)\n",
    "    rolling_predictions.append(np.sqrt(pred.variance.values[-1, :][0]))\n",
    "\n",
    "# Plot rolling forecast results\n",
    "plt.figure(figsize=(10, 4))\n",
    "plt.plot(vols[-test_size:], label='True Volatility')\n",
    "plt.plot(rolling_predictions, label='Rolling Forecast Volatility', color='cyan')\n",
    "plt.title('Volatility Prediction - Rolling Forecast', fontsize=20)\n",
    "plt.xlabel('Time')\n",
    "plt.ylabel('Volatility')\n",
    "plt.legend()\n",
    "plt.show()"
   ]
  }
 ],
 "metadata": {
  "kernelspec": {
   "display_name": "Python 3",
   "language": "python",
   "name": "python3"
  },
  "language_info": {
   "codemirror_mode": {
    "name": "ipython",
    "version": 3
   },
   "file_extension": ".py",
   "mimetype": "text/x-python",
   "name": "python",
   "nbconvert_exporter": "python",
   "pygments_lexer": "ipython3",
   "version": "3.8.5"
  }
 },
 "nbformat": 4,
 "nbformat_minor": 4
}
